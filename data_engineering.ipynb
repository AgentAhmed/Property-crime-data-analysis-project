{
 "cells": [
  {
   "cell_type": "code",
   "execution_count": 1,
   "metadata": {},
   "outputs": [],
   "source": [
    "import os\n",
    "import findspark\n",
    "from pyspark import SparkConf\n",
    "from pyspark.sql import SparkSession"
   ]
  },
  {
   "cell_type": "code",
   "execution_count": 2,
   "metadata": {},
   "outputs": [],
   "source": [
    "os.environ[\"JAVA_HOME\"] = \"C:\\Program Files\\Java\\jdk-21\"\n",
    "os.environ[\"SPARK_HOME\"] = \"C:\\spark-3.5.0-bin-hadoop3\""
   ]
  },
  {
   "cell_type": "code",
   "execution_count": 3,
   "metadata": {},
   "outputs": [],
   "source": [
    "findspark.init()\n",
    "spark = SparkSession.builder.appName(\"Property crime Analysis Table\").getOrCreate()"
   ]
  },
  {
   "cell_type": "code",
   "execution_count": 4,
   "metadata": {},
   "outputs": [
    {
     "data": {
      "text/plain": [
       "'C:\\\\spark-3.5.0-bin-hadoop3'"
      ]
     },
     "execution_count": 4,
     "metadata": {},
     "output_type": "execute_result"
    }
   ],
   "source": [
    "findspark.find()"
   ]
  },
  {
   "cell_type": "code",
   "execution_count": 5,
   "metadata": {},
   "outputs": [
    {
     "data": {
      "text/html": [
       "\n",
       "            <div>\n",
       "                <p><b>SparkSession - in-memory</b></p>\n",
       "                \n",
       "        <div>\n",
       "            <p><b>SparkContext</b></p>\n",
       "\n",
       "            <p><a href=\"http://LAPTOP-G6R54A20:4040\">Spark UI</a></p>\n",
       "\n",
       "            <dl>\n",
       "              <dt>Version</dt>\n",
       "                <dd><code>v3.5.0</code></dd>\n",
       "              <dt>Master</dt>\n",
       "                <dd><code>local[*]</code></dd>\n",
       "              <dt>AppName</dt>\n",
       "                <dd><code>Property crime Analysis Table</code></dd>\n",
       "            </dl>\n",
       "        </div>\n",
       "        \n",
       "            </div>\n",
       "        "
      ],
      "text/plain": [
       "<pyspark.sql.session.SparkSession at 0x26772c1d910>"
      ]
     },
     "execution_count": 5,
     "metadata": {},
     "output_type": "execute_result"
    }
   ],
   "source": [
    "spark"
   ]
  },
  {
   "cell_type": "code",
   "execution_count": 6,
   "metadata": {},
   "outputs": [
    {
     "data": {
      "text/plain": [
       "[('spark.app.startTime', '1701608459990'),\n",
       " ('spark.app.submitTime', '1701608459739'),\n",
       " ('spark.executor.id', 'driver'),\n",
       " ('spark.app.name', 'Property crime Analysis Table'),\n",
       " ('spark.driver.extraJavaOptions',\n",
       "  '-Djava.net.preferIPv6Addresses=false -XX:+IgnoreUnrecognizedVMOptions --add-opens=java.base/java.lang=ALL-UNNAMED --add-opens=java.base/java.lang.invoke=ALL-UNNAMED --add-opens=java.base/java.lang.reflect=ALL-UNNAMED --add-opens=java.base/java.io=ALL-UNNAMED --add-opens=java.base/java.net=ALL-UNNAMED --add-opens=java.base/java.nio=ALL-UNNAMED --add-opens=java.base/java.util=ALL-UNNAMED --add-opens=java.base/java.util.concurrent=ALL-UNNAMED --add-opens=java.base/java.util.concurrent.atomic=ALL-UNNAMED --add-opens=java.base/sun.nio.ch=ALL-UNNAMED --add-opens=java.base/sun.nio.cs=ALL-UNNAMED --add-opens=java.base/sun.security.action=ALL-UNNAMED --add-opens=java.base/sun.util.calendar=ALL-UNNAMED --add-opens=java.security.jgss/sun.security.krb5=ALL-UNNAMED -Djdk.reflect.useDirectMethodHandle=false'),\n",
       " ('spark.rdd.compress', 'True'),\n",
       " ('spark.app.id', 'local-1701608461868'),\n",
       " ('spark.serializer.objectStreamReset', '100'),\n",
       " ('spark.driver.host', 'LAPTOP-G6R54A20'),\n",
       " ('spark.master', 'local[*]'),\n",
       " ('spark.submit.pyFiles', ''),\n",
       " ('spark.submit.deployMode', 'client'),\n",
       " ('spark.sql.warehouse.dir',\n",
       "  'file:/E:/Omdena%20School/Data%20engineering/Property%20crime%20data%20analysis/spark-warehouse'),\n",
       " ('spark.ui.showConsoleProgress', 'true'),\n",
       " ('spark.driver.port', '54456'),\n",
       " ('spark.executor.extraJavaOptions',\n",
       "  '-Djava.net.preferIPv6Addresses=false -XX:+IgnoreUnrecognizedVMOptions --add-opens=java.base/java.lang=ALL-UNNAMED --add-opens=java.base/java.lang.invoke=ALL-UNNAMED --add-opens=java.base/java.lang.reflect=ALL-UNNAMED --add-opens=java.base/java.io=ALL-UNNAMED --add-opens=java.base/java.net=ALL-UNNAMED --add-opens=java.base/java.nio=ALL-UNNAMED --add-opens=java.base/java.util=ALL-UNNAMED --add-opens=java.base/java.util.concurrent=ALL-UNNAMED --add-opens=java.base/java.util.concurrent.atomic=ALL-UNNAMED --add-opens=java.base/sun.nio.ch=ALL-UNNAMED --add-opens=java.base/sun.nio.cs=ALL-UNNAMED --add-opens=java.base/sun.security.action=ALL-UNNAMED --add-opens=java.base/sun.util.calendar=ALL-UNNAMED --add-opens=java.security.jgss/sun.security.krb5=ALL-UNNAMED -Djdk.reflect.useDirectMethodHandle=false')]"
      ]
     },
     "execution_count": 6,
     "metadata": {},
     "output_type": "execute_result"
    }
   ],
   "source": [
    "spark.sparkContext.getConf().getAll()"
   ]
  },
  {
   "cell_type": "code",
   "execution_count": 42,
   "metadata": {},
   "outputs": [],
   "source": [
    "# Load datasets\n",
    "chicago_climate_data = spark.read.csv(\"chicago_climate_data.csv\", header=True, inferSchema=True)\n",
    "housing_data = spark.read.csv(\"housing_zhvi_final.csv\", header=True, inferSchema=True)\n",
    "crime_data = spark.read.csv(\"crime_final.csv\", header=True, inferSchema=True)"
   ]
  },
  {
   "cell_type": "markdown",
   "metadata": {},
   "source": [
    "## Analyzing housing data for chicago"
   ]
  },
  {
   "cell_type": "code",
   "execution_count": 43,
   "metadata": {},
   "outputs": [
    {
     "name": "stdout",
     "output_type": "stream",
     "text": [
      "root\n",
      " |-- RegionID: integer (nullable = true)\n",
      " |-- RegionName: string (nullable = true)\n",
      " |-- City: string (nullable = true)\n",
      " |-- ZHVI: double (nullable = true)\n",
      "\n"
     ]
    }
   ],
   "source": [
    "housing_data.printSchema()"
   ]
  },
  {
   "cell_type": "code",
   "execution_count": 44,
   "metadata": {},
   "outputs": [
    {
     "data": {
      "text/plain": [
       "DataFrame[summary: string, RegionID: string, RegionName: string, City: string, ZHVI: string]"
      ]
     },
     "execution_count": 44,
     "metadata": {},
     "output_type": "execute_result"
    }
   ],
   "source": [
    "housing_data.describe()"
   ]
  },
  {
   "cell_type": "code",
   "execution_count": 45,
   "metadata": {},
   "outputs": [
    {
     "name": "stdout",
     "output_type": "stream",
     "text": [
      "+--------+----------+-------+------------------+\n",
      "|RegionID|RegionName|   City|              ZHVI|\n",
      "+--------+----------+-------+------------------+\n",
      "|  137634|  Burnside|Chicago|139033.83333333334|\n",
      "+--------+----------+-------+------------------+\n",
      "only showing top 1 row\n",
      "\n"
     ]
    }
   ],
   "source": [
    "housing_data.show(n=1)"
   ]
  },
  {
   "cell_type": "code",
   "execution_count": 46,
   "metadata": {},
   "outputs": [
    {
     "data": {
      "text/plain": [
       "[Row(RegionID=137634, RegionName='Burnside', City='Chicago', ZHVI=139033.83333333334),\n",
       " Row(RegionID=137841, RegionName='Clearing', City='Chicago', ZHVI=246129.83333333334),\n",
       " Row(RegionID=138129, RegionName='Dunning', City='Chicago', ZHVI=294552.4166666667),\n",
       " Row(RegionID=138166, RegionName='East Side', City='Chicago', ZHVI=132832.33333333334),\n",
       " Row(RegionID=138261, RegionName='Englewood', City='Chicago', ZHVI=53393.166666666664)]"
      ]
     },
     "execution_count": 46,
     "metadata": {},
     "output_type": "execute_result"
    }
   ],
   "source": [
    "housing_data.take(5)"
   ]
  },
  {
   "cell_type": "code",
   "execution_count": 77,
   "metadata": {},
   "outputs": [
    {
     "data": {
      "text/plain": [
       "['RegionID', 'RegionName', 'City', 'ZHVI']"
      ]
     },
     "execution_count": 77,
     "metadata": {},
     "output_type": "execute_result"
    }
   ],
   "source": [
    "housing_data.columns"
   ]
  },
  {
   "cell_type": "code",
   "execution_count": 47,
   "metadata": {},
   "outputs": [
    {
     "name": "stdout",
     "output_type": "stream",
     "text": [
      "+--------+------------------+-------+------------------+\n",
      "|RegionID|        RegionName|   City|              ZHVI|\n",
      "+--------+------------------+-------+------------------+\n",
      "|  137634|          Burnside|Chicago|139033.83333333334|\n",
      "|  137841|          Clearing|Chicago|246129.83333333334|\n",
      "|  138129|           Dunning|Chicago| 294552.4166666667|\n",
      "|  138166|         East Side|Chicago|132832.33333333334|\n",
      "|  138261|         Englewood|Chicago|53393.166666666664|\n",
      "|  138732|         Hegewisch|Chicago|          135495.5|\n",
      "|  139408|     McKinley Park|Chicago| 263932.9166666667|\n",
      "|  140024|           Pullman|Chicago|133982.91666666666|\n",
      "|  140437|     South Chicago|Chicago|         117142.25|\n",
      "|  140440|     South Deering|Chicago|104284.58333333333|\n",
      "|  140913|      West Pullman|Chicago| 92588.83333333333|\n",
      "|  269566|       Albany Park|Chicago| 344270.6666666667|\n",
      "|  269568|    Archer Heights|Chicago|          217370.5|\n",
      "|  269570|           Ashburn|Chicago|          197536.0|\n",
      "|  269571|           Gresham|Chicago|         150008.25|\n",
      "|  269572|       Avalon Park|Chicago|167166.33333333334|\n",
      "|  269573|          Avondale|Chicago| 420379.9166666667|\n",
      "|  269576|      Chicago Lawn|Chicago|188789.83333333334|\n",
      "|  269577|East Garfield Park|Chicago|          162175.0|\n",
      "|  269578|         Edgewater|Chicago|242895.33333333334|\n",
      "+--------+------------------+-------+------------------+\n",
      "only showing top 20 rows\n",
      "\n"
     ]
    }
   ],
   "source": [
    "housing_data.show()"
   ]
  },
  {
   "cell_type": "markdown",
   "metadata": {},
   "source": [
    "## Analyzing crima data for chicago"
   ]
  },
  {
   "cell_type": "code",
   "execution_count": 48,
   "metadata": {},
   "outputs": [
    {
     "name": "stdout",
     "output_type": "stream",
     "text": [
      "root\n",
      " |-- ID: integer (nullable = true)\n",
      " |-- Case Number: string (nullable = true)\n",
      " |-- Date: timestamp (nullable = true)\n",
      " |-- Primary Type: string (nullable = true)\n",
      " |-- Description: string (nullable = true)\n",
      " |-- Location Description: string (nullable = true)\n",
      " |-- Arrest: boolean (nullable = true)\n",
      " |-- Domestic: boolean (nullable = true)\n",
      " |-- Year: integer (nullable = true)\n",
      " |-- regionid: double (nullable = true)\n",
      " |-- neighborhood: string (nullable = true)\n",
      " |-- population: integer (nullable = true)\n",
      "\n"
     ]
    }
   ],
   "source": [
    "crime_data.printSchema()"
   ]
  },
  {
   "cell_type": "code",
   "execution_count": 49,
   "metadata": {},
   "outputs": [
    {
     "data": {
      "text/plain": [
       "[Row(ID=12098557, Case Number='JD288415', Date=datetime.datetime(2019, 2, 1, 0, 1), Primary Type='BATTERY', Description='SIMPLE', Location Description='RESIDENCE', Arrest=False, Domestic=True, Year=2019, regionid=269582.0, neighborhood='Gage Park', population=39894),\n",
       " Row(ID=12073110, Case Number='JD258449', Date=datetime.datetime(2019, 11, 1, 8, 0), Primary Type='BURGLARY', Description='UNLAWFUL ENTRY', Location Description='CHURCH / SYNAGOGUE / PLACE OF WORSHIP', Arrest=False, Domestic=False, Year=2019, regionid=269582.0, neighborhood='Gage Park', population=39894)]"
      ]
     },
     "execution_count": 49,
     "metadata": {},
     "output_type": "execute_result"
    }
   ],
   "source": [
    "crime_data.take(2)"
   ]
  },
  {
   "cell_type": "code",
   "execution_count": 50,
   "metadata": {},
   "outputs": [],
   "source": [
    "from pyspark.sql.functions import col"
   ]
  },
  {
   "cell_type": "code",
   "execution_count": 51,
   "metadata": {},
   "outputs": [],
   "source": [
    "from pyspark.sql.types import IntegerType"
   ]
  },
  {
   "cell_type": "code",
   "execution_count": 52,
   "metadata": {},
   "outputs": [
    {
     "name": "stdout",
     "output_type": "stream",
     "text": [
      "root\n",
      " |-- Year: integer (nullable = true)\n",
      "\n"
     ]
    }
   ],
   "source": [
    "crime_data.select(col(\"Year\").cast(IntegerType())).printSchema()"
   ]
  },
  {
   "cell_type": "code",
   "execution_count": 53,
   "metadata": {},
   "outputs": [
    {
     "data": {
      "text/plain": [
       "[Row(ID=12098557, Case Number='JD288415', Date=datetime.datetime(2019, 2, 1, 0, 1), Primary Type='BATTERY', Description='SIMPLE', Location Description='RESIDENCE', Arrest=False, Domestic=True, Year=2019, regionid=269582.0, neighborhood='Gage Park', population=39894)]"
      ]
     },
     "execution_count": 53,
     "metadata": {},
     "output_type": "execute_result"
    }
   ],
   "source": [
    "crime_data.take(1)"
   ]
  },
  {
   "cell_type": "code",
   "execution_count": 54,
   "metadata": {},
   "outputs": [
    {
     "name": "stdout",
     "output_type": "stream",
     "text": [
      "+--------+-----------+-------------------+--------------------+--------------------+--------------------+------+--------+----+--------+------------+----------+\n",
      "|      ID|Case Number|               Date|        Primary Type|         Description|Location Description|Arrest|Domestic|Year|regionid|neighborhood|population|\n",
      "+--------+-----------+-------------------+--------------------+--------------------+--------------------+------+--------+----+--------+------------+----------+\n",
      "|12098557|   JD288415|2019-02-01 00:01:00|             BATTERY|              SIMPLE|           RESIDENCE| false|    true|2019|269582.0|   Gage Park|     39894|\n",
      "|12073110|   JD258449|2019-11-01 08:00:00|            BURGLARY|      UNLAWFUL ENTRY|CHURCH / SYNAGOGU...| false|   false|2019|269582.0|   Gage Park|     39894|\n",
      "|12079127|   JD265413|2019-04-01 22:20:00|         SEX OFFENSE|AGGRAVATED CRIMIN...|           APARTMENT| false|   false|2019|269582.0|   Gage Park|     39894|\n",
      "|11715936|   JC298110|2019-06-08 19:45:00|   CRIMINAL TRESPASS|          TO VEHICLE|              STREET|  true|   false|2019|269582.0|   Gage Park|     39894|\n",
      "|11724588|   JC308202|2019-06-15 21:06:00|             BATTERY|              SIMPLE|          RESTAURANT| false|   false|2019|269582.0|   Gage Park|     39894|\n",
      "|11735457|   JC321542|2019-06-25 15:45:00|             BATTERY|DOMESTIC BATTERY ...|           APARTMENT| false|    true|2019|269582.0|   Gage Park|     39894|\n",
      "|11725210|   JC309539|2019-06-17 01:44:00|     CRIMINAL DAMAGE|          TO VEHICLE|PARKING LOT/GARAG...|  true|   false|2019|269582.0|   Gage Park|     39894|\n",
      "|12151700|   JD351026|2019-07-01 23:00:00|CRIMINAL SEXUAL A...|      NON-AGGRAVATED|           APARTMENT|  true|    true|2019|269582.0|   Gage Park|     39894|\n",
      "|12179659|   JD383456|2019-11-02 12:00:00|CRIMINAL SEXUAL A...|  AGGRAVATED - OTHER|           RESIDENCE| false|   false|2019|269582.0|   Gage Park|     39894|\n",
      "|11749859|   JC339308|2019-07-08 00:10:00|               THEFT|        RETAIL THEFT|         GAS STATION|  true|   false|2019|269582.0|   Gage Park|     39894|\n",
      "|11663950|   JC234699|2019-04-23 02:05:00|             ASSAULT|              SIMPLE|           APARTMENT| false|   false|2019|269582.0|   Gage Park|     39894|\n",
      "|12339263|   JE197633|2019-01-21 15:00:00|OFFENSE INVOLVING...|SEXUAL ASSAULT OF...|           RESIDENCE| false|    true|2019|269582.0|   Gage Park|     39894|\n",
      "|12624307|   JF152138|2019-08-01 00:00:00|OFFENSE INVOLVING...|   CHILD PORNOGRAPHY|           RESIDENCE|  true|   false|2019|269582.0|   Gage Park|     39894|\n",
      "|   24411|   JC156164|2019-02-17 19:14:00|            HOMICIDE| FIRST DEGREE MURDER|              STREET| false|   false|2019|269582.0|   Gage Park|     39894|\n",
      "|   24456|   JC204604|2019-03-29 19:48:00|            HOMICIDE| FIRST DEGREE MURDER|              STREET| false|   false|2019|269582.0|   Gage Park|     39894|\n",
      "|   24437|   JC189018|2019-03-17 13:54:00|            HOMICIDE| FIRST DEGREE MURDER|                AUTO| false|   false|2019|269582.0|   Gage Park|     39894|\n",
      "|   24725|   JC415613|2019-09-01 04:25:00|            HOMICIDE| FIRST DEGREE MURDER|              STREET| false|   false|2019|269582.0|   Gage Park|     39894|\n",
      "|   24416|   JC161724|2019-02-22 12:56:00|            HOMICIDE| FIRST DEGREE MURDER|              STREET|  true|   false|2019|269582.0|   Gage Park|     39894|\n",
      "|   24884|   JC563753|2019-12-29 08:14:00|            HOMICIDE| FIRST DEGREE MURDER|                AUTO| false|   false|2019|269582.0|   Gage Park|     39894|\n",
      "|11576546|   JC128781|2019-01-24 22:44:00|           NARCOTICS|       POSS: COCAINE|              STREET|  true|   false|2019|269582.0|   Gage Park|     39894|\n",
      "+--------+-----------+-------------------+--------------------+--------------------+--------------------+------+--------+----+--------+------------+----------+\n",
      "only showing top 20 rows\n",
      "\n"
     ]
    }
   ],
   "source": [
    "crime_data.show()"
   ]
  },
  {
   "cell_type": "code",
   "execution_count": 55,
   "metadata": {},
   "outputs": [
    {
     "data": {
      "text/plain": [
       "[Row(Case Number='JC204604', Year=2019, ID=24456, neighborhood='Gage Park')]"
      ]
     },
     "execution_count": 55,
     "metadata": {},
     "output_type": "execute_result"
    }
   ],
   "source": [
    "crime_data.select([\"Case Number\", \"Year\", \"ID\", \"neighborhood\"]).where(crime_data.ID == \"24456\").collect()"
   ]
  },
  {
   "cell_type": "code",
   "execution_count": 56,
   "metadata": {},
   "outputs": [
    {
     "data": {
      "text/plain": [
       "256686"
      ]
     },
     "execution_count": 56,
     "metadata": {},
     "output_type": "execute_result"
    }
   ],
   "source": [
    "crime_data.count()"
   ]
  },
  {
   "cell_type": "markdown",
   "metadata": {},
   "source": [
    "## Analyzing Climate data for chicago"
   ]
  },
  {
   "cell_type": "code",
   "execution_count": 57,
   "metadata": {},
   "outputs": [
    {
     "name": "stdout",
     "output_type": "stream",
     "text": [
      "root\n",
      " |-- index: integer (nullable = true)\n",
      " |-- dt: date (nullable = true)\n",
      " |-- day: integer (nullable = true)\n",
      " |-- month: integer (nullable = true)\n",
      " |-- year: integer (nullable = true)\n",
      " |-- City: string (nullable = true)\n",
      " |-- AverageTemperature: double (nullable = true)\n",
      " |-- AverageTemperatureUncertainty: double (nullable = true)\n",
      " |-- Latitude: string (nullable = true)\n",
      " |-- Longitude: string (nullable = true)\n",
      "\n"
     ]
    }
   ],
   "source": [
    "chicago_climate_data.printSchema()"
   ]
  },
  {
   "cell_type": "code",
   "execution_count": 58,
   "metadata": {},
   "outputs": [
    {
     "data": {
      "text/plain": [
       "[Row(index=51674, dt=datetime.date(1743, 11, 1), day=1, month=11, year=1743, City='Chicago', AverageTemperature=5.436, AverageTemperatureUncertainty=2.205, Latitude='42.59N', Longitude='87.27W'),\n",
       " Row(index=51675, dt=datetime.date(1743, 12, 1), day=1, month=12, year=1743, City='Chicago', AverageTemperature=None, AverageTemperatureUncertainty=None, Latitude='42.59N', Longitude='87.27W')]"
      ]
     },
     "execution_count": 58,
     "metadata": {},
     "output_type": "execute_result"
    }
   ],
   "source": [
    "chicago_climate_data.take(2)"
   ]
  },
  {
   "cell_type": "code",
   "execution_count": 59,
   "metadata": {},
   "outputs": [
    {
     "name": "stdout",
     "output_type": "stream",
     "text": [
      "+----+-----+\n",
      "|year|count|\n",
      "+----+-----+\n",
      "|1829|   12|\n",
      "|1959|   12|\n",
      "|1896|   12|\n",
      "|1990|   12|\n",
      "|1903|   12|\n",
      "|1884|   12|\n",
      "|1975|   12|\n",
      "|1977|   12|\n",
      "|1766|   12|\n",
      "|1787|   12|\n",
      "|1888|   12|\n",
      "|1808|   12|\n",
      "|1743|    2|\n",
      "|1863|   12|\n",
      "|1924|   12|\n",
      "|1745|   12|\n",
      "|1823|   12|\n",
      "|2003|   12|\n",
      "|1869|   12|\n",
      "|2007|   12|\n",
      "+----+-----+\n",
      "only showing top 20 rows\n",
      "\n"
     ]
    }
   ],
   "source": [
    "chicago_climate_data.groupBy(\"year\").count().show()"
   ]
  },
  {
   "cell_type": "code",
   "execution_count": 89,
   "metadata": {},
   "outputs": [
    {
     "data": {
      "text/plain": [
       "['index',\n",
       " 'dt',\n",
       " 'day',\n",
       " 'month',\n",
       " 'year',\n",
       " 'City',\n",
       " 'AverageTemperature',\n",
       " 'AverageTemperatureUncertainty',\n",
       " 'Latitude',\n",
       " 'Longitude']"
      ]
     },
     "execution_count": 89,
     "metadata": {},
     "output_type": "execute_result"
    }
   ],
   "source": [
    "chicago_climate_data.columns"
   ]
  },
  {
   "cell_type": "code",
   "execution_count": 60,
   "metadata": {},
   "outputs": [
    {
     "name": "stdout",
     "output_type": "stream",
     "text": [
      "+-----+----------+---+-----+----+-------+------------------+-----------------------------+--------+---------+\n",
      "|index|dt        |day|month|year|City   |AverageTemperature|AverageTemperatureUncertainty|Latitude|Longitude|\n",
      "+-----+----------+---+-----+----+-------+------------------+-----------------------------+--------+---------+\n",
      "|54907|2013-04-01|1  |4    |2013|Chicago|6.644             |0.462                        |42.59N  |87.27W   |\n",
      "|54904|2013-01-01|1  |1    |2013|Chicago|1.056             |0.528                        |42.59N  |87.27W   |\n",
      "|54905|2013-02-01|1  |2    |2013|Chicago|-0.509            |0.473                        |42.59N  |87.27W   |\n",
      "|54906|2013-03-01|1  |3    |2013|Chicago|1.3230000000000002|0.275                        |42.59N  |87.27W   |\n",
      "|54908|2013-05-01|1  |5    |2013|Chicago|13.734000000000002|0.863                        |42.59N  |87.27W   |\n",
      "|54909|2013-06-01|1  |6    |2013|Chicago|17.913            |0.669                        |42.59N  |87.27W   |\n",
      "|54910|2013-07-01|1  |7    |2013|Chicago|21.914            |0.322                        |42.59N  |87.27W   |\n",
      "|54911|2013-08-01|1  |8    |2013|Chicago|22.23             |0.373                        |42.59N  |87.27W   |\n",
      "|54912|2013-09-01|1  |9    |2013|Chicago|19.977            |1.033                        |42.59N  |87.27W   |\n",
      "|54892|2012-01-01|1  |1    |2012|Chicago|2.6700000000000004|0.727                        |42.59N  |87.27W   |\n",
      "|54893|2012-02-01|1  |2    |2012|Chicago|3.698             |0.5670000000000001           |42.59N  |87.27W   |\n",
      "|54894|2012-03-01|1  |3    |2012|Chicago|12.145            |0.369                        |42.59N  |87.27W   |\n",
      "|54895|2012-04-01|1  |4    |2012|Chicago|8.383000000000001 |0.347                        |42.59N  |87.27W   |\n",
      "|54896|2012-05-01|1  |5    |2012|Chicago|14.956            |0.835                        |42.59N  |87.27W   |\n",
      "|54897|2012-06-01|1  |6    |2012|Chicago|19.532            |0.519                        |42.59N  |87.27W   |\n",
      "|54898|2012-07-01|1  |7    |2012|Chicago|25.909            |0.516                        |42.59N  |87.27W   |\n",
      "|54899|2012-08-01|1  |8    |2012|Chicago|22.778            |0.42                         |42.59N  |87.27W   |\n",
      "|54900|2012-09-01|1  |9    |2012|Chicago|18.693            |0.329                        |42.59N  |87.27W   |\n",
      "|54901|2012-10-01|1  |10   |2012|Chicago|12.229            |0.333                        |42.59N  |87.27W   |\n",
      "|54902|2012-11-01|1  |11   |2012|Chicago|7.27              |0.263                        |42.59N  |87.27W   |\n",
      "+-----+----------+---+-----+----+-------+------------------+-----------------------------+--------+---------+\n",
      "only showing top 20 rows\n",
      "\n"
     ]
    }
   ],
   "source": [
    "chicago_climate_data.sort(chicago_climate_data.year.desc()).show(truncate=False)"
   ]
  },
  {
   "cell_type": "code",
   "execution_count": 61,
   "metadata": {},
   "outputs": [
    {
     "name": "stdout",
     "output_type": "stream",
     "text": [
      "+-----+----------+---+-----+----+-------+------------------+-----------------------------+--------+---------+\n",
      "|index|        dt|day|month|year|   City|AverageTemperature|AverageTemperatureUncertainty|Latitude|Longitude|\n",
      "+-----+----------+---+-----+----+-------+------------------+-----------------------------+--------+---------+\n",
      "|51674|1743-11-01|  1|   11|1743|Chicago|             5.436|                        2.205|  42.59N|   87.27W|\n",
      "|51675|1743-12-01|  1|   12|1743|Chicago|              NULL|                         NULL|  42.59N|   87.27W|\n",
      "|51676|1744-01-01|  1|    1|1744|Chicago|              NULL|                         NULL|  42.59N|   87.27W|\n",
      "|51677|1744-02-01|  1|    2|1744|Chicago|              NULL|                         NULL|  42.59N|   87.27W|\n",
      "|51678|1744-03-01|  1|    3|1744|Chicago|              NULL|                         NULL|  42.59N|   87.27W|\n",
      "|51679|1744-04-01|  1|    4|1744|Chicago|             8.766|                        2.357|  42.59N|   87.27W|\n",
      "|51680|1744-05-01|  1|    5|1744|Chicago|            11.605|                        2.102|  42.59N|   87.27W|\n",
      "|51681|1744-06-01|  1|    6|1744|Chicago|            17.965|                        1.989|  42.59N|   87.27W|\n",
      "|51682|1744-07-01|  1|    7|1744|Chicago|             21.68|                        1.786|  42.59N|   87.27W|\n",
      "|51683|1744-08-01|  1|    8|1744|Chicago|              NULL|                         NULL|  42.59N|   87.27W|\n",
      "|51684|1744-09-01|  1|    9|1744|Chicago|             17.03|                        1.927|  42.59N|   87.27W|\n",
      "|51685|1744-10-01|  1|   10|1744|Chicago|            10.662|                        2.165|  42.59N|   87.27W|\n",
      "|51686|1744-11-01|  1|   11|1744|Chicago|             5.776|                        2.083|  42.59N|   87.27W|\n",
      "|51687|1744-12-01|  1|   12|1744|Chicago|             0.371|                        2.471|  42.59N|   87.27W|\n",
      "|51688|1745-01-01|  1|    1|1745|Chicago|            -0.901|                        2.649|  42.59N|   87.27W|\n",
      "|51689|1745-02-01|  1|    2|1745|Chicago|            -0.422|                        2.494|  42.59N|   87.27W|\n",
      "|51690|1745-03-01|  1|    3|1745|Chicago|             1.865|                        2.363|  42.59N|   87.27W|\n",
      "|51691|1745-04-01|  1|    4|1745|Chicago|             6.654|                        1.987|  42.59N|   87.27W|\n",
      "|51692|1745-05-01|  1|    5|1745|Chicago|              NULL|                         NULL|  42.59N|   87.27W|\n",
      "|51693|1745-06-01|  1|    6|1745|Chicago|              NULL|                         NULL|  42.59N|   87.27W|\n",
      "+-----+----------+---+-----+----+-------+------------------+-----------------------------+--------+---------+\n",
      "only showing top 20 rows\n",
      "\n"
     ]
    }
   ],
   "source": [
    "chicago_climate_data.show()"
   ]
  },
  {
   "cell_type": "markdown",
   "metadata": {},
   "source": [
    "## Analyzing Combine data of crime and housing saved as  final_data.csv"
   ]
  },
  {
   "cell_type": "code",
   "execution_count": 83,
   "metadata": {},
   "outputs": [],
   "source": [
    "crime_housing_combine = spark.read.csv(\"final_data.csv\", header=True, inferSchema=True)"
   ]
  },
  {
   "cell_type": "code",
   "execution_count": 84,
   "metadata": {},
   "outputs": [
    {
     "name": "stdout",
     "output_type": "stream",
     "text": [
      "root\n",
      " |-- ID: integer (nullable = true)\n",
      " |-- Case Number: string (nullable = true)\n",
      " |-- Date: timestamp (nullable = true)\n",
      " |-- Primary Type: string (nullable = true)\n",
      " |-- Description: string (nullable = true)\n",
      " |-- Location Description: string (nullable = true)\n",
      " |-- Arrest: boolean (nullable = true)\n",
      " |-- Domestic: boolean (nullable = true)\n",
      " |-- Year: integer (nullable = true)\n",
      " |-- population: integer (nullable = true)\n",
      " |-- RegionID: integer (nullable = true)\n",
      " |-- RegionName: string (nullable = true)\n",
      " |-- City: string (nullable = true)\n",
      " |-- ZHVI: double (nullable = true)\n",
      "\n"
     ]
    }
   ],
   "source": [
    "crime_housing_combine.printSchema()"
   ]
  },
  {
   "cell_type": "code",
   "execution_count": 85,
   "metadata": {},
   "outputs": [
    {
     "data": {
      "text/plain": [
       "[Row(ID=12098557, Case Number='JD288415', Date=datetime.datetime(2019, 2, 1, 0, 1), Primary Type='BATTERY', Description='SIMPLE', Location Description='RESIDENCE', Arrest=False, Domestic=True, Year=2019, population=39894, RegionID=269582, RegionName='Gage Park', City='Chicago', ZHVI=185517.41666666666),\n",
       " Row(ID=12073110, Case Number='JD258449', Date=datetime.datetime(2019, 11, 1, 8, 0), Primary Type='BURGLARY', Description='UNLAWFUL ENTRY', Location Description='CHURCH / SYNAGOGUE / PLACE OF WORSHIP', Arrest=False, Domestic=False, Year=2019, population=39894, RegionID=269582, RegionName='Gage Park', City='Chicago', ZHVI=185517.41666666666)]"
      ]
     },
     "execution_count": 85,
     "metadata": {},
     "output_type": "execute_result"
    }
   ],
   "source": [
    "crime_housing_combine.take(2)"
   ]
  },
  {
   "cell_type": "code",
   "execution_count": 86,
   "metadata": {},
   "outputs": [
    {
     "name": "stdout",
     "output_type": "stream",
     "text": [
      "+--------+-----------+-------------------+--------------------+--------------------+--------------------+------+--------+----+----------+--------+----------+-------+------------------+\n",
      "|      ID|Case Number|               Date|        Primary Type|         Description|Location Description|Arrest|Domestic|Year|population|RegionID|RegionName|   City|              ZHVI|\n",
      "+--------+-----------+-------------------+--------------------+--------------------+--------------------+------+--------+----+----------+--------+----------+-------+------------------+\n",
      "|12098557|   JD288415|2019-02-01 00:01:00|             BATTERY|              SIMPLE|           RESIDENCE| false|    true|2019|     39894|  269582| Gage Park|Chicago|185517.41666666666|\n",
      "|12073110|   JD258449|2019-11-01 08:00:00|            BURGLARY|      UNLAWFUL ENTRY|CHURCH / SYNAGOGU...| false|   false|2019|     39894|  269582| Gage Park|Chicago|185517.41666666666|\n",
      "|12079127|   JD265413|2019-04-01 22:20:00|         SEX OFFENSE|AGGRAVATED CRIMIN...|           APARTMENT| false|   false|2019|     39894|  269582| Gage Park|Chicago|185517.41666666666|\n",
      "|11715936|   JC298110|2019-06-08 19:45:00|   CRIMINAL TRESPASS|          TO VEHICLE|              STREET|  true|   false|2019|     39894|  269582| Gage Park|Chicago|185517.41666666666|\n",
      "|11724588|   JC308202|2019-06-15 21:06:00|             BATTERY|              SIMPLE|          RESTAURANT| false|   false|2019|     39894|  269582| Gage Park|Chicago|185517.41666666666|\n",
      "|11735457|   JC321542|2019-06-25 15:45:00|             BATTERY|DOMESTIC BATTERY ...|           APARTMENT| false|    true|2019|     39894|  269582| Gage Park|Chicago|185517.41666666666|\n",
      "|11725210|   JC309539|2019-06-17 01:44:00|     CRIMINAL DAMAGE|          TO VEHICLE|PARKING LOT/GARAG...|  true|   false|2019|     39894|  269582| Gage Park|Chicago|185517.41666666666|\n",
      "|12151700|   JD351026|2019-07-01 23:00:00|CRIMINAL SEXUAL A...|      NON-AGGRAVATED|           APARTMENT|  true|    true|2019|     39894|  269582| Gage Park|Chicago|185517.41666666666|\n",
      "|12179659|   JD383456|2019-11-02 12:00:00|CRIMINAL SEXUAL A...|  AGGRAVATED - OTHER|           RESIDENCE| false|   false|2019|     39894|  269582| Gage Park|Chicago|185517.41666666666|\n",
      "|11749859|   JC339308|2019-07-08 00:10:00|               THEFT|        RETAIL THEFT|         GAS STATION|  true|   false|2019|     39894|  269582| Gage Park|Chicago|185517.41666666666|\n",
      "|11663950|   JC234699|2019-04-23 02:05:00|             ASSAULT|              SIMPLE|           APARTMENT| false|   false|2019|     39894|  269582| Gage Park|Chicago|185517.41666666666|\n",
      "|12339263|   JE197633|2019-01-21 15:00:00|OFFENSE INVOLVING...|SEXUAL ASSAULT OF...|           RESIDENCE| false|    true|2019|     39894|  269582| Gage Park|Chicago|185517.41666666666|\n",
      "|12624307|   JF152138|2019-08-01 00:00:00|OFFENSE INVOLVING...|   CHILD PORNOGRAPHY|           RESIDENCE|  true|   false|2019|     39894|  269582| Gage Park|Chicago|185517.41666666666|\n",
      "|   24411|   JC156164|2019-02-17 19:14:00|            HOMICIDE| FIRST DEGREE MURDER|              STREET| false|   false|2019|     39894|  269582| Gage Park|Chicago|185517.41666666666|\n",
      "|   24456|   JC204604|2019-03-29 19:48:00|            HOMICIDE| FIRST DEGREE MURDER|              STREET| false|   false|2019|     39894|  269582| Gage Park|Chicago|185517.41666666666|\n",
      "|   24437|   JC189018|2019-03-17 13:54:00|            HOMICIDE| FIRST DEGREE MURDER|                AUTO| false|   false|2019|     39894|  269582| Gage Park|Chicago|185517.41666666666|\n",
      "|   24725|   JC415613|2019-09-01 04:25:00|            HOMICIDE| FIRST DEGREE MURDER|              STREET| false|   false|2019|     39894|  269582| Gage Park|Chicago|185517.41666666666|\n",
      "|   24416|   JC161724|2019-02-22 12:56:00|            HOMICIDE| FIRST DEGREE MURDER|              STREET|  true|   false|2019|     39894|  269582| Gage Park|Chicago|185517.41666666666|\n",
      "|   24884|   JC563753|2019-12-29 08:14:00|            HOMICIDE| FIRST DEGREE MURDER|                AUTO| false|   false|2019|     39894|  269582| Gage Park|Chicago|185517.41666666666|\n",
      "|11576546|   JC128781|2019-01-24 22:44:00|           NARCOTICS|       POSS: COCAINE|              STREET|  true|   false|2019|     39894|  269582| Gage Park|Chicago|185517.41666666666|\n",
      "+--------+-----------+-------------------+--------------------+--------------------+--------------------+------+--------+----+----------+--------+----------+-------+------------------+\n",
      "only showing top 20 rows\n",
      "\n"
     ]
    }
   ],
   "source": [
    "crime_housing_combine.show()"
   ]
  },
  {
   "cell_type": "code",
   "execution_count": 87,
   "metadata": {},
   "outputs": [
    {
     "name": "stdout",
     "output_type": "stream",
     "text": [
      "root\n",
      " |-- Primary Type: integer (nullable = true)\n",
      "\n"
     ]
    }
   ],
   "source": [
    "crime_housing_combine.select(col(\"Primary Type\").cast(IntegerType())).printSchema()"
   ]
  },
  {
   "cell_type": "code",
   "execution_count": 88,
   "metadata": {},
   "outputs": [
    {
     "data": {
      "text/plain": [
       "['ID',\n",
       " 'Case Number',\n",
       " 'Date',\n",
       " 'Primary Type',\n",
       " 'Description',\n",
       " 'Location Description',\n",
       " 'Arrest',\n",
       " 'Domestic',\n",
       " 'Year',\n",
       " 'population',\n",
       " 'RegionID',\n",
       " 'RegionName',\n",
       " 'City',\n",
       " 'ZHVI']"
      ]
     },
     "execution_count": 88,
     "metadata": {},
     "output_type": "execute_result"
    }
   ],
   "source": [
    "crime_housing_combine.columns"
   ]
  },
  {
   "cell_type": "markdown",
   "metadata": {},
   "source": [
    "### Combining all data"
   ]
  },
  {
   "cell_type": "code",
   "execution_count": 78,
   "metadata": {},
   "outputs": [],
   "source": [
    "spark = SparkSession.builder.appName(\"JoinDatasets\").getOrCreate()"
   ]
  },
  {
   "cell_type": "code",
   "execution_count": 91,
   "metadata": {},
   "outputs": [],
   "source": [
    "# Join datasets based on the 'City' column\n",
    "joined_data = crime_housing_combine.join(chicago_climate_data, 'City', 'inner')"
   ]
  },
  {
   "cell_type": "code",
   "execution_count": 92,
   "metadata": {},
   "outputs": [
    {
     "name": "stdout",
     "output_type": "stream",
     "text": [
      "+-------+--------+-----------+-------------------+------------+-----------+--------------------+------+--------+----+----------+--------+----------+------------------+-----+----------+---+-----+----+------------------+-----------------------------+--------+---------+\n",
      "|   City|      ID|Case Number|               Date|Primary Type|Description|Location Description|Arrest|Domestic|Year|population|RegionID|RegionName|              ZHVI|index|        dt|day|month|year|AverageTemperature|AverageTemperatureUncertainty|Latitude|Longitude|\n",
      "+-------+--------+-----------+-------------------+------------+-----------+--------------------+------+--------+----+----------+--------+----------+------------------+-----+----------+---+-----+----+------------------+-----------------------------+--------+---------+\n",
      "|Chicago|12098557|   JD288415|2019-02-01 00:01:00|     BATTERY|     SIMPLE|           RESIDENCE| false|    true|2019|     39894|  269582| Gage Park|185517.41666666666|54912|2013-09-01|  1|    9|2013|            19.977|                        1.033|  42.59N|   87.27W|\n",
      "|Chicago|12098557|   JD288415|2019-02-01 00:01:00|     BATTERY|     SIMPLE|           RESIDENCE| false|    true|2019|     39894|  269582| Gage Park|185517.41666666666|54911|2013-08-01|  1|    8|2013|             22.23|                        0.373|  42.59N|   87.27W|\n",
      "|Chicago|12098557|   JD288415|2019-02-01 00:01:00|     BATTERY|     SIMPLE|           RESIDENCE| false|    true|2019|     39894|  269582| Gage Park|185517.41666666666|54910|2013-07-01|  1|    7|2013|            21.914|                        0.322|  42.59N|   87.27W|\n",
      "|Chicago|12098557|   JD288415|2019-02-01 00:01:00|     BATTERY|     SIMPLE|           RESIDENCE| false|    true|2019|     39894|  269582| Gage Park|185517.41666666666|54909|2013-06-01|  1|    6|2013|            17.913|                        0.669|  42.59N|   87.27W|\n",
      "|Chicago|12098557|   JD288415|2019-02-01 00:01:00|     BATTERY|     SIMPLE|           RESIDENCE| false|    true|2019|     39894|  269582| Gage Park|185517.41666666666|54908|2013-05-01|  1|    5|2013|13.734000000000002|                        0.863|  42.59N|   87.27W|\n",
      "|Chicago|12098557|   JD288415|2019-02-01 00:01:00|     BATTERY|     SIMPLE|           RESIDENCE| false|    true|2019|     39894|  269582| Gage Park|185517.41666666666|54907|2013-04-01|  1|    4|2013|             6.644|                        0.462|  42.59N|   87.27W|\n",
      "|Chicago|12098557|   JD288415|2019-02-01 00:01:00|     BATTERY|     SIMPLE|           RESIDENCE| false|    true|2019|     39894|  269582| Gage Park|185517.41666666666|54906|2013-03-01|  1|    3|2013|1.3230000000000002|                        0.275|  42.59N|   87.27W|\n",
      "|Chicago|12098557|   JD288415|2019-02-01 00:01:00|     BATTERY|     SIMPLE|           RESIDENCE| false|    true|2019|     39894|  269582| Gage Park|185517.41666666666|54905|2013-02-01|  1|    2|2013|            -0.509|                        0.473|  42.59N|   87.27W|\n",
      "|Chicago|12098557|   JD288415|2019-02-01 00:01:00|     BATTERY|     SIMPLE|           RESIDENCE| false|    true|2019|     39894|  269582| Gage Park|185517.41666666666|54904|2013-01-01|  1|    1|2013|             1.056|                        0.528|  42.59N|   87.27W|\n",
      "|Chicago|12098557|   JD288415|2019-02-01 00:01:00|     BATTERY|     SIMPLE|           RESIDENCE| false|    true|2019|     39894|  269582| Gage Park|185517.41666666666|54903|2012-12-01|  1|   12|2012|5.5920000000000005|                        0.537|  42.59N|   87.27W|\n",
      "|Chicago|12098557|   JD288415|2019-02-01 00:01:00|     BATTERY|     SIMPLE|           RESIDENCE| false|    true|2019|     39894|  269582| Gage Park|185517.41666666666|54902|2012-11-01|  1|   11|2012|              7.27|                        0.263|  42.59N|   87.27W|\n",
      "|Chicago|12098557|   JD288415|2019-02-01 00:01:00|     BATTERY|     SIMPLE|           RESIDENCE| false|    true|2019|     39894|  269582| Gage Park|185517.41666666666|54901|2012-10-01|  1|   10|2012|            12.229|                        0.333|  42.59N|   87.27W|\n",
      "|Chicago|12098557|   JD288415|2019-02-01 00:01:00|     BATTERY|     SIMPLE|           RESIDENCE| false|    true|2019|     39894|  269582| Gage Park|185517.41666666666|54900|2012-09-01|  1|    9|2012|            18.693|                        0.329|  42.59N|   87.27W|\n",
      "|Chicago|12098557|   JD288415|2019-02-01 00:01:00|     BATTERY|     SIMPLE|           RESIDENCE| false|    true|2019|     39894|  269582| Gage Park|185517.41666666666|54899|2012-08-01|  1|    8|2012|            22.778|                         0.42|  42.59N|   87.27W|\n",
      "|Chicago|12098557|   JD288415|2019-02-01 00:01:00|     BATTERY|     SIMPLE|           RESIDENCE| false|    true|2019|     39894|  269582| Gage Park|185517.41666666666|54898|2012-07-01|  1|    7|2012|            25.909|                        0.516|  42.59N|   87.27W|\n",
      "|Chicago|12098557|   JD288415|2019-02-01 00:01:00|     BATTERY|     SIMPLE|           RESIDENCE| false|    true|2019|     39894|  269582| Gage Park|185517.41666666666|54897|2012-06-01|  1|    6|2012|            19.532|                        0.519|  42.59N|   87.27W|\n",
      "|Chicago|12098557|   JD288415|2019-02-01 00:01:00|     BATTERY|     SIMPLE|           RESIDENCE| false|    true|2019|     39894|  269582| Gage Park|185517.41666666666|54896|2012-05-01|  1|    5|2012|            14.956|                        0.835|  42.59N|   87.27W|\n",
      "|Chicago|12098557|   JD288415|2019-02-01 00:01:00|     BATTERY|     SIMPLE|           RESIDENCE| false|    true|2019|     39894|  269582| Gage Park|185517.41666666666|54895|2012-04-01|  1|    4|2012| 8.383000000000001|                        0.347|  42.59N|   87.27W|\n",
      "|Chicago|12098557|   JD288415|2019-02-01 00:01:00|     BATTERY|     SIMPLE|           RESIDENCE| false|    true|2019|     39894|  269582| Gage Park|185517.41666666666|54894|2012-03-01|  1|    3|2012|            12.145|                        0.369|  42.59N|   87.27W|\n",
      "|Chicago|12098557|   JD288415|2019-02-01 00:01:00|     BATTERY|     SIMPLE|           RESIDENCE| false|    true|2019|     39894|  269582| Gage Park|185517.41666666666|54893|2012-02-01|  1|    2|2012|             3.698|           0.5670000000000001|  42.59N|   87.27W|\n",
      "+-------+--------+-----------+-------------------+------------+-----------+--------------------+------+--------+----+----------+--------+----------+------------------+-----+----------+---+-----+----+------------------+-----------------------------+--------+---------+\n",
      "only showing top 20 rows\n",
      "\n"
     ]
    }
   ],
   "source": [
    "joined_data.show()"
   ]
  }
 ],
 "metadata": {
  "kernelspec": {
   "display_name": "Python 3",
   "language": "python",
   "name": "python3"
  },
  "language_info": {
   "codemirror_mode": {
    "name": "ipython",
    "version": 3
   },
   "file_extension": ".py",
   "mimetype": "text/x-python",
   "name": "python",
   "nbconvert_exporter": "python",
   "pygments_lexer": "ipython3",
   "version": "3.11.6"
  }
 },
 "nbformat": 4,
 "nbformat_minor": 2
}
